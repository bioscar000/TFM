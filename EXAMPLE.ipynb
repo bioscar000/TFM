{
 "cells": [
  {
   "cell_type": "code",
   "execution_count": 18,
   "id": "2cb45369",
   "metadata": {},
   "outputs": [],
   "source": [
    "import os\n",
    "from utils import *\n",
    "import shutil"
   ]
  },
  {
   "cell_type": "markdown",
   "id": "817e3f43",
   "metadata": {},
   "source": [
    "### Specify and explore the data folder.\n",
    "\n",
    "In this section, we will specify the folder path where Fiber Diffraction images are located. These images will be used as examples during the presentation of my TFM (\"Trabajo de Fin de Máster\")."
   ]
  },
  {
   "cell_type": "code",
   "execution_count": 19,
   "id": "6ab8165d",
   "metadata": {},
   "outputs": [
    {
     "name": "stdout",
     "output_type": "stream",
     "text": [
      "Folder Name ->  raw_data\n",
      "\n",
      "Folders in the folder -> raw_data:\n",
      "buffer\n",
      "calibrant\n",
      "sample\n",
      "\n",
      "Files in subfolder buffer:\n",
      "\tpilatus_BufferBG4_000_0000.edf\n",
      "\tpilatus_BufferBG4_000_0001.edf\n",
      "\tpilatus_BufferBG4_000_0002.edf\n",
      "\tpilatus_BufferBG4_000_0003.edf\n",
      "\tpilatus_BufferBG4_000_0004.edf\n",
      "\tpilatus_BufferBG4_000_0005.edf\n",
      "\tpilatus_BufferBG4_000_0006.edf\n",
      "\tpilatus_BufferBG4_000_0007.edf\n",
      "\tpilatus_BufferBG4_000_0008.edf\n",
      "\tpilatus_BufferBG4_000_0009.edf\n",
      "\tpilatus_BufferBG4_000_0010.edf\n",
      "\tpilatus_BufferBG4_000_0011.edf\n",
      "\tpilatus_BufferBG4_000_0012.edf\n",
      "\tpilatus_BufferBG4_000_0013.edf\n",
      "\tpilatus_BufferBG4_000_0014.edf\n",
      "\tpilatus_BufferBG4_000_0015.edf\n",
      "\tpilatus_BufferBG4_000_0016.edf\n",
      "\tpilatus_BufferBG4_000_0017.edf\n",
      "\tpilatus_BufferBG4_000_0018.edf\n",
      "\tpilatus_BufferBG4_000_0019.edf\n",
      "\tpilatus_BufferBG4_000_0020.edf\n",
      "\tpilatus_BufferBG4_000_0021.edf\n",
      "\tpilatus_BufferBG4_000_0022.edf\n",
      "\tpilatus_BufferBG4_000_0023.edf\n",
      "\tpilatus_BufferBG4_000_0024.edf\n",
      "\tpilatus_BufferBG4_000_0025.edf\n",
      "\tpilatus_BufferBG4_000_0026.edf\n",
      "\tpilatus_BufferBG4_000_0027.edf\n",
      "\tpilatus_BufferBG4_000_0028.edf\n",
      "\tpilatus_BufferBG4_000_0029.edf\n",
      "\tpilatus_BufferBG4_000_0030.edf\n",
      "\tpilatus_BufferBG4_000_0031.edf\n",
      "\tpilatus_BufferBG4_000_0032.edf\n",
      "\tpilatus_BufferBG4_000_0033.edf\n",
      "\tpilatus_BufferBG4_000_0034.edf\n",
      "\tpilatus_BufferBG4_000_0035.edf\n",
      "\n",
      "Files in subfolder calibrant:\n",
      "\tpilatus_AgBh_000_0000.edf\n",
      "\tpilatus_AgBh_000_0000.poni\n",
      "\n",
      "Files in subfolder sample:\n",
      "\tpilatus_CW190_2B_000_0000.edf\n",
      "\tpilatus_CW190_2B_000_0001.edf\n",
      "\tpilatus_CW190_2B_000_0002.edf\n",
      "\tpilatus_CW190_2B_000_0003.edf\n",
      "\tpilatus_CW190_2B_000_0004.edf\n",
      "\tpilatus_CW190_2B_000_0005.edf\n",
      "\tpilatus_CW190_2C_000_0000.edf\n",
      "\tpilatus_CW190_2C_000_0001.edf\n",
      "\tpilatus_CW190_2C_000_0002.edf\n",
      "\tpilatus_CW190_2C_000_0003.edf\n",
      "\tpilatus_CW190_2C_000_0004.edf\n",
      "\tpilatus_CW190_2C_000_0005.edf\n",
      "\tpilatus_CW190_2D_000_0000.edf\n",
      "\tpilatus_CW190_2D_000_0001.edf\n",
      "\tpilatus_CW190_2D_000_0002.edf\n",
      "\tpilatus_CW190_2D_000_0003.edf\n",
      "\tpilatus_CW190_2D_000_0004.edf\n",
      "\tpilatus_CW190_2D_000_0005.edf\n",
      "\tpilatus_CW190_2E_000_0000.edf\n",
      "\tpilatus_CW190_2E_000_0001.edf\n",
      "\tpilatus_CW190_2E_000_0002.edf\n",
      "\tpilatus_CW190_2E_000_0003.edf\n",
      "\tpilatus_CW190_2E_000_0004.edf\n",
      "\tpilatus_CW190_2E_000_0005.edf\n",
      "\tpilatus_CW190_2F_000_0000.edf\n",
      "\tpilatus_CW190_2F_000_0001.edf\n",
      "\tpilatus_CW190_2F_000_0002.edf\n",
      "\tpilatus_CW190_2F_000_0003.edf\n",
      "\tpilatus_CW190_2F_000_0004.edf\n",
      "\tpilatus_CW190_2F_000_0005.edf\n",
      "\tpilatus_CW190_2G_000_0000.edf\n",
      "\tpilatus_CW190_2G_000_0001.edf\n",
      "\tpilatus_CW190_2G_000_0002.edf\n",
      "\tpilatus_CW190_2G_000_0003.edf\n",
      "\tpilatus_CW190_2G_000_0004.edf\n",
      "\tpilatus_CW190_2G_000_0005.edf\n",
      "\tpilatus_CW190_2H_001_0000.edf\n",
      "\tpilatus_CW190_2H_001_0001.edf\n",
      "\tpilatus_CW190_2H_001_0002.edf\n",
      "\tpilatus_CW190_2H_001_0003.edf\n",
      "\tpilatus_CW190_2H_001_0004.edf\n",
      "\tpilatus_CW190_2H_001_0005.edf\n"
     ]
    }
   ],
   "source": [
    "# Specify the folder woth Fiber Diffraction image files\n",
    "data_folder = './raw_data'\n",
    "data_folder_path = os.path.abspath(data_folder)\n",
    "data_folder_name = os.path.basename(data_folder)\n",
    "\n",
    "# Check if the folder exists\n",
    "if os.path.exists(data_folder):\n",
    "    # Get the list of files in the folder\n",
    "    subfolders = os.listdir(data_folder)\n",
    "    \n",
    "    # Display folder information\n",
    "    print(f'Folder Name ->  {data_folder_name}')\n",
    "    \n",
    "    # Display the list of files\n",
    "    print(f'\\nFolders in the folder -> {data_folder_name}:')\n",
    "    for subfol in subfolders:\n",
    "        print(subfol)\n",
    "\n",
    "    # Display files within subfolders\n",
    "    subfolders = [f.path for f in os.scandir(data_folder) if f.is_dir()]\n",
    "    for subfolder in subfolders:\n",
    "        subfolder_name = os.path.basename(subfolder)\n",
    "        subfolder_files = os.listdir(subfolder)\n",
    "        print(f'\\nFiles in subfolder {subfolder_name}:')\n",
    "        for subfolder_file in subfolder_files:\n",
    "            print(f'\\t{subfolder_file}')\n",
    "else:\n",
    "    print(f'The folder {folder} does not exist.')"
   ]
  },
  {
   "cell_type": "markdown",
   "id": "0f511647",
   "metadata": {},
   "source": [
    "### Results Folder Setup\n",
    "\n",
    "The code block below is responsible for setting up the results folder for storing processed data."
   ]
  },
  {
   "cell_type": "code",
   "execution_count": 7,
   "id": "050e8100",
   "metadata": {},
   "outputs": [
    {
     "name": "stdout",
     "output_type": "stream",
     "text": [
      "Warning: The './analysis_results' folder already exists. Deleting existing folder...\n",
      "Creating the './analysis_results' folder.\n"
     ]
    }
   ],
   "source": [
    "# Results folder name\n",
    "results_folder = './analysis_results'\n",
    "results_folder_path = os.path.abspath(results_folder)\n",
    "results_folder_name = os.path.basename(results_folder)\n",
    "\n",
    "# Create or recreate the results folder\n",
    "if os.path.exists(results_folder_path):\n",
    "    print(f\"Warning: The '{results_folder}' folder already exists. Deleting existing folder...\")\n",
    "    shutil.rmtree(results_folder_path)\n",
    "\n",
    "print(f\"Creating the '{results_folder}' folder.\")\n",
    "os.makedirs(results_folder_path)\n"
   ]
  },
  {
   "cell_type": "markdown",
   "id": "ea83234a",
   "metadata": {},
   "source": [
    "### Processed Files\n",
    "\n",
    "This section defines the filenames (`AVG_sample.tif` and `STD_sample.tif`) and their full paths within the results folder. Additionally, it obtains lists of files in the 'buffer' and 'sample' folders for further processing."
   ]
  },
  {
   "cell_type": "code",
   "execution_count": 8,
   "id": "36e11922",
   "metadata": {},
   "outputs": [],
   "source": [
    "# Processed files names\n",
    "avg_sample_filename = 'AVG_sample.tif'\n",
    "std_sample_filename = 'STD_sample.tif'\n",
    "\n",
    "# Full paths of the processed files\n",
    "avg_sample_path = os.path.join(results_folder_path, avg_sample_filename)\n",
    "std_sample_path = os.path.join(results_folder_path, std_sample_filename)\n",
    "\n",
    "# Get lists of files in the \"buffer\" and \"sample\" folders\n",
    "buffer_folder_path = os.path.join(data_folder_path, 'buffer')\n",
    "sample_folder_path = os.path.join(data_folder_path, 'sample')\n",
    "\n",
    "buffer_files = [os.path.join(buffer_folder_path, file) for file in os.listdir(buffer_folder_path)]\n",
    "sample_files = [os.path.join(sample_folder_path, file) for file in os.listdir(sample_folder_path)]"
   ]
  },
  {
   "cell_type": "markdown",
   "id": "28eed8b3",
   "metadata": {},
   "source": [
    "### Image Processing\n",
    "\n",
    "The code block below, which utilizes the `processStack` function from the `utils.py` script, generates two processed images – the average image (`AVG_buffer.tif`) and the standard deviation image (`STD_buffer.tif`). The function uses the specified method ('mean' and 'std', respectively) and the dark frames from the 'buffer' folder."
   ]
  },
  {
   "cell_type": "code",
   "execution_count": 9,
   "id": "1e926d64",
   "metadata": {},
   "outputs": [
    {
     "name": "stderr",
     "output_type": "stream",
     "text": [
      "C:\\Users\\oscar\\AppData\\Local\\Programs\\Python\\Python310\\lib\\site-packages\\pyFAI\\average.py:448: RuntimeWarning: invalid value encountered in true_divide\n",
      "  mask = ((abs(stack - center) / std) > cutoff)\n"
     ]
    }
   ],
   "source": [
    "processStack(sample_files, method='mean', dark=buffer_files, name=avg_sample_path)\n",
    "processStack(sample_files, method='std', dark=buffer_files, name=std_sample_path)"
   ]
  },
  {
   "cell_type": "markdown",
   "id": "33cd6ad2",
   "metadata": {},
   "source": [
    "### Visualize Processed Images\n",
    "\n",
    "The code below utilizes the OpenCV library to read and visualize the processed images ('AVG_buffer.tif' and 'STD_buffer.tif'). The images are displayed using the Matplotlib library, with a 'turbo' colormap applied and specific vmin and vmax values for better visibility."
   ]
  },
  {
   "cell_type": "code",
   "execution_count": 16,
   "id": "f5793081",
   "metadata": {},
   "outputs": [
    {
     "name": "stdout",
     "output_type": "stream",
     "text": [
      "C:\\Users\\oscar\\OneDrive - Universidad Politécnica de Madrid\\Escritorio\\EXAMPLE\\analysis_results\\AVG_sample.tif\n",
      "None\n"
     ]
    },
    {
     "ename": "AttributeError",
     "evalue": "'NoneType' object has no attribute 'astype'",
     "output_type": "error",
     "traceback": [
      "\u001b[1;31m---------------------------------------------------------------------------\u001b[0m",
      "\u001b[1;31mAttributeError\u001b[0m                            Traceback (most recent call last)",
      "Input \u001b[1;32mIn [16]\u001b[0m, in \u001b[0;36m<cell line: 13>\u001b[1;34m()\u001b[0m\n\u001b[0;32m     10\u001b[0m \u001b[38;5;28mprint\u001b[39m(avg_image)\n\u001b[0;32m     12\u001b[0m \u001b[38;5;66;03m# Convert data type to float\u001b[39;00m\n\u001b[1;32m---> 13\u001b[0m avg_image \u001b[38;5;241m=\u001b[39m \u001b[43mavg_image\u001b[49m\u001b[38;5;241;43m.\u001b[39;49m\u001b[43mastype\u001b[49m(\u001b[38;5;28mfloat\u001b[39m)\n\u001b[0;32m     14\u001b[0m std_image \u001b[38;5;241m=\u001b[39m std_image\u001b[38;5;241m.\u001b[39mastype(\u001b[38;5;28mfloat\u001b[39m)\n\u001b[0;32m     16\u001b[0m \u001b[38;5;66;03m# Create fig\u001b[39;00m\n",
      "\u001b[1;31mAttributeError\u001b[0m: 'NoneType' object has no attribute 'astype'"
     ]
    }
   ],
   "source": [
    "import cv2\n",
    "import numpy as np\n",
    "import matplotlib.pyplot as plt\n",
    "\n",
    "\n",
    "print(avg_sample_path)\n",
    "# Read images\n",
    "avg_image = cv2.imread(avg_sample_path, cv2.IMREAD_UNCHANGED)\n",
    "std_image = cv2.imread(std_sample_path, cv2.IMREAD_UNCHANGED)\n",
    "print(avg_image)\n",
    "\n",
    "# Convert data type to float\n",
    "avg_image = avg_image.astype(float)\n",
    "std_image = std_image.astype(float)\n",
    "\n",
    "# Create fig\n",
    "plt.figure(figsize=(10, 5))\n",
    "\n",
    "# Plot average image\n",
    "plt.subplot(1, 2, 1)\n",
    "plt.imshow(avg_image, cmap='turbo', vmin=0, vmax=200)\n",
    "plt.title('Average Image')\n",
    "plt.axis('off')\n",
    "\n",
    "# Plot standard deviation image\n",
    "plt.subplot(1, 2, 2)\n",
    "plt.imshow(std_image, cmap='turbo', vmin=0, vmax=200)\n",
    "plt.title('Standard Deviation Image')\n",
    "plt.axis('off')\n",
    "\n",
    "plt.show()"
   ]
  },
  {
   "cell_type": "markdown",
   "id": "57cd19a3",
   "metadata": {},
   "source": []
  },
  {
   "cell_type": "code",
   "execution_count": null,
   "id": "2e0837e2",
   "metadata": {},
   "outputs": [],
   "source": [
    "ai = pyFAI.load(os.path.join(data_folder_path, 'calibrant/pilatus_AgBh_000_0000.poni'))"
   ]
  },
  {
   "cell_type": "code",
   "execution_count": null,
   "id": "6a65c1b6",
   "metadata": {},
   "outputs": [],
   "source": []
  },
  {
   "cell_type": "code",
   "execution_count": null,
   "id": "d1a3a0cf",
   "metadata": {},
   "outputs": [],
   "source": []
  }
 ],
 "metadata": {
  "kernelspec": {
   "display_name": "Python 3 (ipykernel)",
   "language": "python",
   "name": "python3"
  },
  "language_info": {
   "codemirror_mode": {
    "name": "ipython",
    "version": 3
   },
   "file_extension": ".py",
   "mimetype": "text/x-python",
   "name": "python",
   "nbconvert_exporter": "python",
   "pygments_lexer": "ipython3",
   "version": "3.10.4"
  }
 },
 "nbformat": 4,
 "nbformat_minor": 5
}
